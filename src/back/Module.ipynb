{
 "cells": [
  {
   "cell_type": "code",
   "execution_count": 1,
   "id": "3fe00a54-c64d-4d34-8921-74d5b9f65612",
   "metadata": {},
   "outputs": [],
   "source": [
    "import socket\n",
    "import torch\n",
    "import torchvision.transforms as transforms\n",
    "from VGG16 import VGG16\n",
    "from PIL import Image"
   ]
  },
  {
   "cell_type": "code",
   "execution_count": 2,
   "id": "d0d3f9d6-4e02-4825-b885-09d77931b58e",
   "metadata": {},
   "outputs": [],
   "source": [
    "labels = ['Paper', 'Rock', 'Scissor']\n",
    "path = ''\n",
    "def readImage(path:str):\n",
    "    img = Image.open(str(path)).convert('RGB')\n",
    "    return img\n",
    "def preprocessImage(img):\n",
    "    show_process = transforms.Compose([\n",
    "        transforms.CenterCrop(224)\n",
    "    ])\n",
    "    show_process(img).show()\n",
    "    preprocess = transforms.Compose([\n",
    "        transforms.CenterCrop(224),\n",
    "        transforms.ToTensor(),\n",
    "        transforms.Normalize([0.485, 0.456, 0.406], [0.229, 0.224, 0.225]),  # 标准化\n",
    "    ])\n",
    "    tensor = preprocess(img)\n",
    "    return tensor"
   ]
  },
  {
   "cell_type": "code",
   "execution_count": 3,
   "id": "06028ecf-2492-435a-adbe-2eca0f88b57d",
   "metadata": {},
   "outputs": [],
   "source": [
    "# init module\n",
    "module = torch.load('module.pkl', map_location=torch.device('cpu'))\n",
    "module.eval()\n",
    "\n",
    "def predict(img_path:str) -> (torch.tensor, str):\n",
    "    tensor = preprocessImage(readImage(img_path))\n",
    "    tensor = torch.unsqueeze(tensor, dim=0)\n",
    "    with torch.no_grad():\n",
    "        _, outputs = module(tensor)\n",
    "        _, predicted = torch.max(outputs.data, 1)\n",
    "    print('predicted:', labels[predicted])\n",
    "    return outputs.data, labels[predicted]"
   ]
  },
  {
   "cell_type": "code",
   "execution_count": 4,
   "id": "2eb9f37d-e288-472a-9f25-d5e02d92c770",
   "metadata": {},
   "outputs": [
    {
     "name": "stdout",
     "output_type": "stream",
     "text": [
      "('127.0.0.1', 1078) connected.\n",
      "predicted: Paper\n",
      "predicted: Rock\n",
      "predicted: Rock\n",
      "predicted: Scissor\n",
      "predicted: Scissor\n",
      "predicted: Rock\n",
      "predicted: Rock\n"
     ]
    },
    {
     "ename": "KeyboardInterrupt",
     "evalue": "",
     "output_type": "error",
     "traceback": [
      "\u001b[1;31m---------------------------------------------------------------------------\u001b[0m",
      "\u001b[1;31mConnectionResetError\u001b[0m                      Traceback (most recent call last)",
      "\u001b[1;32m<ipython-input-4-4d1d3f88a241>\u001b[0m in \u001b[0;36m<module>\u001b[1;34m\u001b[0m\n\u001b[0;32m      8\u001b[0m         \u001b[1;32mwhile\u001b[0m \u001b[1;32mTrue\u001b[0m\u001b[1;33m:\u001b[0m\u001b[1;33m\u001b[0m\u001b[1;33m\u001b[0m\u001b[0m\n\u001b[1;32m----> 9\u001b[1;33m             \u001b[0mdata\u001b[0m \u001b[1;33m=\u001b[0m \u001b[0mc\u001b[0m\u001b[1;33m.\u001b[0m\u001b[0mrecv\u001b[0m\u001b[1;33m(\u001b[0m\u001b[1;36m1024\u001b[0m\u001b[1;33m)\u001b[0m\u001b[1;33m\u001b[0m\u001b[1;33m\u001b[0m\u001b[0m\n\u001b[0m\u001b[0;32m     10\u001b[0m             \u001b[1;31m# exit signal\u001b[0m\u001b[1;33m\u001b[0m\u001b[1;33m\u001b[0m\u001b[1;33m\u001b[0m\u001b[0m\n",
      "\u001b[1;31mConnectionResetError\u001b[0m: [WinError 10054] 远程主机强迫关闭了一个现有的连接。",
      "\nDuring handling of the above exception, another exception occurred:\n",
      "\u001b[1;31mKeyboardInterrupt\u001b[0m                         Traceback (most recent call last)",
      "\u001b[1;32m<ipython-input-4-4d1d3f88a241>\u001b[0m in \u001b[0;36m<module>\u001b[1;34m\u001b[0m\n\u001b[0;32m      7\u001b[0m         \u001b[0mprint\u001b[0m\u001b[1;33m(\u001b[0m\u001b[0maddr\u001b[0m\u001b[1;33m,\u001b[0m \u001b[1;34m\"connected.\"\u001b[0m\u001b[1;33m)\u001b[0m\u001b[1;33m\u001b[0m\u001b[1;33m\u001b[0m\u001b[0m\n\u001b[0;32m      8\u001b[0m         \u001b[1;32mwhile\u001b[0m \u001b[1;32mTrue\u001b[0m\u001b[1;33m:\u001b[0m\u001b[1;33m\u001b[0m\u001b[1;33m\u001b[0m\u001b[0m\n\u001b[1;32m----> 9\u001b[1;33m             \u001b[0mdata\u001b[0m \u001b[1;33m=\u001b[0m \u001b[0mc\u001b[0m\u001b[1;33m.\u001b[0m\u001b[0mrecv\u001b[0m\u001b[1;33m(\u001b[0m\u001b[1;36m1024\u001b[0m\u001b[1;33m)\u001b[0m\u001b[1;33m\u001b[0m\u001b[1;33m\u001b[0m\u001b[0m\n\u001b[0m\u001b[0;32m     10\u001b[0m             \u001b[1;31m# exit signal\u001b[0m\u001b[1;33m\u001b[0m\u001b[1;33m\u001b[0m\u001b[1;33m\u001b[0m\u001b[0m\n\u001b[0;32m     11\u001b[0m             \u001b[1;32mif\u001b[0m \u001b[1;32mnot\u001b[0m \u001b[0mdata\u001b[0m \u001b[1;32mor\u001b[0m \u001b[0mdata\u001b[0m \u001b[1;33m==\u001b[0m \u001b[1;34mb'exit\\n'\u001b[0m\u001b[1;33m:\u001b[0m\u001b[1;33m\u001b[0m\u001b[1;33m\u001b[0m\u001b[0m\n",
      "\u001b[1;31mKeyboardInterrupt\u001b[0m: "
     ]
    }
   ],
   "source": [
    "# communication\n",
    "with socket.socket(socket.AF_INET, socket.SOCK_STREAM) as s:\n",
    "    s.bind(('127.0.0.1', 6666))\n",
    "    s.listen(1)\n",
    "    c, addr = s.accept()\n",
    "    with c:\n",
    "        print(addr, \"connected.\")\n",
    "        while True:\n",
    "            data = c.recv(1024)\n",
    "            # exit signal\n",
    "            if not data or data == b'exit\\n':\n",
    "                break\n",
    "            data = bytes.decode(data)\n",
    "            # remove \\n\n",
    "            if data[-1] == '\\n':\n",
    "                data = data[0:-1]\n",
    "            output, prediction = predict(data)\n",
    "            c.sendall(str.encode(prediction) + b'\\n')\n",
    "print('Connection closed.')"
   ]
  },
  {
   "cell_type": "code",
   "execution_count": null,
   "id": "6dd28b61-6383-4fe9-8684-d769c118f6ac",
   "metadata": {},
   "outputs": [],
   "source": []
  }
 ],
 "metadata": {
  "kernelspec": {
   "display_name": "Python 3",
   "language": "python",
   "name": "python3"
  },
  "language_info": {
   "codemirror_mode": {
    "name": "ipython",
    "version": 3
   },
   "file_extension": ".py",
   "mimetype": "text/x-python",
   "name": "python",
   "nbconvert_exporter": "python",
   "pygments_lexer": "ipython3",
   "version": "3.8.5"
  }
 },
 "nbformat": 4,
 "nbformat_minor": 5
}
